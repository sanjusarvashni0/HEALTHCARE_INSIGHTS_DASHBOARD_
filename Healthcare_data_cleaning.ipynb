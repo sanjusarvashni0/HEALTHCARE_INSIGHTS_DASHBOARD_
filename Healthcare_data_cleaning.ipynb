{
 "cells": [
  {
   "cell_type": "code",
   "execution_count": 1,
   "metadata": {},
   "outputs": [
    {
     "name": "stdout",
     "output_type": "stream",
     "text": [
      "Requirement already satisfied: pandas in c:\\sanju\\healthcare_insights_dashboard\\env\\lib\\site-packages (2.2.3)\n",
      "Requirement already satisfied: numpy>=1.26.0 in c:\\sanju\\healthcare_insights_dashboard\\env\\lib\\site-packages (from pandas) (2.2.2)\n",
      "Requirement already satisfied: python-dateutil>=2.8.2 in c:\\sanju\\healthcare_insights_dashboard\\env\\lib\\site-packages (from pandas) (2.9.0.post0)\n",
      "Requirement already satisfied: pytz>=2020.1 in c:\\sanju\\healthcare_insights_dashboard\\env\\lib\\site-packages (from pandas) (2025.1)\n",
      "Requirement already satisfied: tzdata>=2022.7 in c:\\sanju\\healthcare_insights_dashboard\\env\\lib\\site-packages (from pandas) (2025.1)\n",
      "Requirement already satisfied: six>=1.5 in c:\\sanju\\healthcare_insights_dashboard\\env\\lib\\site-packages (from python-dateutil>=2.8.2->pandas) (1.17.0)\n",
      "Note: you may need to restart the kernel to use updated packages.\n"
     ]
    },
    {
     "name": "stderr",
     "output_type": "stream",
     "text": [
      "\n",
      "[notice] A new release of pip is available: 24.0 -> 25.0\n",
      "[notice] To update, run: python.exe -m pip install --upgrade pip\n"
     ]
    }
   ],
   "source": [
    "pip install pandas"
   ]
  },
  {
   "cell_type": "code",
   "execution_count": 2,
   "metadata": {},
   "outputs": [],
   "source": [
    "import pandas as pd"
   ]
  },
  {
   "cell_type": "code",
   "execution_count": 3,
   "metadata": {},
   "outputs": [
    {
     "data": {
      "text/html": [
       "<div>\n",
       "<style scoped>\n",
       "    .dataframe tbody tr th:only-of-type {\n",
       "        vertical-align: middle;\n",
       "    }\n",
       "\n",
       "    .dataframe tbody tr th {\n",
       "        vertical-align: top;\n",
       "    }\n",
       "\n",
       "    .dataframe thead th {\n",
       "        text-align: right;\n",
       "    }\n",
       "</style>\n",
       "<table border=\"1\" class=\"dataframe\">\n",
       "  <thead>\n",
       "    <tr style=\"text-align: right;\">\n",
       "      <th></th>\n",
       "      <th>Patient_ID</th>\n",
       "      <th>Admit_Date</th>\n",
       "      <th>Discharge_Date</th>\n",
       "      <th>Diagnosis</th>\n",
       "      <th>Bed_Occupancy</th>\n",
       "      <th>Test</th>\n",
       "      <th>Doctor</th>\n",
       "      <th>Followup Date</th>\n",
       "      <th>Feedback</th>\n",
       "      <th>Billing Amount</th>\n",
       "      <th>Health Insurance Amount</th>\n",
       "    </tr>\n",
       "  </thead>\n",
       "  <tbody>\n",
       "    <tr>\n",
       "      <th>0</th>\n",
       "      <td>23571</td>\n",
       "      <td>12/31/2022</td>\n",
       "      <td>1/12/2023</td>\n",
       "      <td>Viral Infection</td>\n",
       "      <td>General</td>\n",
       "      <td>MRI</td>\n",
       "      <td>Jay Sinha</td>\n",
       "      <td>1/20/2023</td>\n",
       "      <td>5.0</td>\n",
       "      <td>13234</td>\n",
       "      <td>11911</td>\n",
       "    </tr>\n",
       "    <tr>\n",
       "      <th>1</th>\n",
       "      <td>27781</td>\n",
       "      <td>1/4/2023</td>\n",
       "      <td>1/12/2023</td>\n",
       "      <td>Typhoid</td>\n",
       "      <td>ICU</td>\n",
       "      <td>MRI</td>\n",
       "      <td>Jaya Yaadav</td>\n",
       "      <td>1/16/2023</td>\n",
       "      <td>4.0</td>\n",
       "      <td>12241</td>\n",
       "      <td>11017</td>\n",
       "    </tr>\n",
       "    <tr>\n",
       "      <th>2</th>\n",
       "      <td>24413</td>\n",
       "      <td>1/5/2023</td>\n",
       "      <td>1/12/2023</td>\n",
       "      <td>Malaria</td>\n",
       "      <td>General</td>\n",
       "      <td>CT Scan</td>\n",
       "      <td>Jay Sinha</td>\n",
       "      <td>1/15/2023</td>\n",
       "      <td>5.0</td>\n",
       "      <td>35255</td>\n",
       "      <td>31730</td>\n",
       "    </tr>\n",
       "    <tr>\n",
       "      <th>3</th>\n",
       "      <td>27360</td>\n",
       "      <td>1/5/2023</td>\n",
       "      <td>1/12/2023</td>\n",
       "      <td>Flu</td>\n",
       "      <td>Private</td>\n",
       "      <td>X-Ray</td>\n",
       "      <td>Jaya Yaadav</td>\n",
       "      <td>1/19/2023</td>\n",
       "      <td>5.0</td>\n",
       "      <td>6582</td>\n",
       "      <td>5924</td>\n",
       "    </tr>\n",
       "    <tr>\n",
       "      <th>4</th>\n",
       "      <td>26097</td>\n",
       "      <td>1/6/2023</td>\n",
       "      <td>1/12/2023</td>\n",
       "      <td>Viral Infection</td>\n",
       "      <td>General</td>\n",
       "      <td>Blood Test</td>\n",
       "      <td>Jaya Yaadav</td>\n",
       "      <td>2/6/2023</td>\n",
       "      <td>4.9</td>\n",
       "      <td>4567</td>\n",
       "      <td>4110</td>\n",
       "    </tr>\n",
       "  </tbody>\n",
       "</table>\n",
       "</div>"
      ],
      "text/plain": [
       "   Patient_ID  Admit_Date Discharge_Date         Diagnosis Bed_Occupancy  \\\n",
       "0       23571  12/31/2022      1/12/2023  Viral Infection        General   \n",
       "1       27781    1/4/2023      1/12/2023           Typhoid           ICU   \n",
       "2       24413    1/5/2023      1/12/2023          Malaria        General   \n",
       "3       27360    1/5/2023      1/12/2023               Flu       Private   \n",
       "4       26097    1/6/2023      1/12/2023  Viral Infection        General   \n",
       "\n",
       "         Test       Doctor Followup Date  Feedback  Billing Amount  \\\n",
       "0         MRI    Jay Sinha     1/20/2023       5.0           13234   \n",
       "1         MRI  Jaya Yaadav     1/16/2023       4.0           12241   \n",
       "2     CT Scan    Jay Sinha     1/15/2023       5.0           35255   \n",
       "3       X-Ray  Jaya Yaadav     1/19/2023       5.0            6582   \n",
       "4  Blood Test  Jaya Yaadav      2/6/2023       4.9            4567   \n",
       "\n",
       "   Health Insurance Amount  \n",
       "0                    11911  \n",
       "1                    11017  \n",
       "2                    31730  \n",
       "3                     5924  \n",
       "4                     4110  "
      ]
     },
     "execution_count": 3,
     "metadata": {},
     "output_type": "execute_result"
    }
   ],
   "source": [
    "df = pd.read_csv('C:/sanju/Healthcare_Insights_Dashboard/Healthcare-dataset.csv')\n",
    "df.head()"
   ]
  },
  {
   "cell_type": "code",
   "execution_count": 4,
   "metadata": {},
   "outputs": [
    {
     "data": {
      "text/html": [
       "<div>\n",
       "<style scoped>\n",
       "    .dataframe tbody tr th:only-of-type {\n",
       "        vertical-align: middle;\n",
       "    }\n",
       "\n",
       "    .dataframe tbody tr th {\n",
       "        vertical-align: top;\n",
       "    }\n",
       "\n",
       "    .dataframe thead th {\n",
       "        text-align: right;\n",
       "    }\n",
       "</style>\n",
       "<table border=\"1\" class=\"dataframe\">\n",
       "  <thead>\n",
       "    <tr style=\"text-align: right;\">\n",
       "      <th></th>\n",
       "      <th>Patient_ID</th>\n",
       "      <th>Feedback</th>\n",
       "      <th>Billing Amount</th>\n",
       "      <th>Health Insurance Amount</th>\n",
       "    </tr>\n",
       "  </thead>\n",
       "  <tbody>\n",
       "    <tr>\n",
       "      <th>count</th>\n",
       "      <td>7157.000000</td>\n",
       "      <td>7157.000000</td>\n",
       "      <td>7157.000000</td>\n",
       "      <td>7157.000000</td>\n",
       "    </tr>\n",
       "    <tr>\n",
       "      <th>mean</th>\n",
       "      <td>27149.000000</td>\n",
       "      <td>4.723543</td>\n",
       "      <td>26607.891854</td>\n",
       "      <td>23947.292162</td>\n",
       "    </tr>\n",
       "    <tr>\n",
       "      <th>std</th>\n",
       "      <td>2066.192271</td>\n",
       "      <td>0.479901</td>\n",
       "      <td>25791.931009</td>\n",
       "      <td>23212.695899</td>\n",
       "    </tr>\n",
       "    <tr>\n",
       "      <th>min</th>\n",
       "      <td>23571.000000</td>\n",
       "      <td>3.500000</td>\n",
       "      <td>1223.000000</td>\n",
       "      <td>1101.000000</td>\n",
       "    </tr>\n",
       "    <tr>\n",
       "      <th>25%</th>\n",
       "      <td>25360.000000</td>\n",
       "      <td>4.500000</td>\n",
       "      <td>5454.000000</td>\n",
       "      <td>4909.000000</td>\n",
       "    </tr>\n",
       "    <tr>\n",
       "      <th>50%</th>\n",
       "      <td>27149.000000</td>\n",
       "      <td>5.000000</td>\n",
       "      <td>12348.000000</td>\n",
       "      <td>11113.000000</td>\n",
       "    </tr>\n",
       "    <tr>\n",
       "      <th>75%</th>\n",
       "      <td>28938.000000</td>\n",
       "      <td>5.000000</td>\n",
       "      <td>43522.000000</td>\n",
       "      <td>39170.000000</td>\n",
       "    </tr>\n",
       "    <tr>\n",
       "      <th>max</th>\n",
       "      <td>30727.000000</td>\n",
       "      <td>5.000000</td>\n",
       "      <td>95867.000000</td>\n",
       "      <td>86280.000000</td>\n",
       "    </tr>\n",
       "  </tbody>\n",
       "</table>\n",
       "</div>"
      ],
      "text/plain": [
       "         Patient_ID     Feedback  Billing Amount  Health Insurance Amount\n",
       "count   7157.000000  7157.000000     7157.000000              7157.000000\n",
       "mean   27149.000000     4.723543    26607.891854             23947.292162\n",
       "std     2066.192271     0.479901    25791.931009             23212.695899\n",
       "min    23571.000000     3.500000     1223.000000              1101.000000\n",
       "25%    25360.000000     4.500000     5454.000000              4909.000000\n",
       "50%    27149.000000     5.000000    12348.000000             11113.000000\n",
       "75%    28938.000000     5.000000    43522.000000             39170.000000\n",
       "max    30727.000000     5.000000    95867.000000             86280.000000"
      ]
     },
     "execution_count": 4,
     "metadata": {},
     "output_type": "execute_result"
    }
   ],
   "source": [
    "df.describe()"
   ]
  },
  {
   "cell_type": "code",
   "execution_count": 5,
   "metadata": {},
   "outputs": [
    {
     "name": "stdout",
     "output_type": "stream",
     "text": [
      "<class 'pandas.core.frame.DataFrame'>\n",
      "RangeIndex: 7157 entries, 0 to 7156\n",
      "Data columns (total 11 columns):\n",
      " #   Column                   Non-Null Count  Dtype  \n",
      "---  ------                   --------------  -----  \n",
      " 0   Patient_ID               7157 non-null   int64  \n",
      " 1   Admit_Date               7157 non-null   object \n",
      " 2   Discharge_Date           7157 non-null   object \n",
      " 3   Diagnosis                7157 non-null   object \n",
      " 4   Bed_Occupancy            7157 non-null   object \n",
      " 5   Test                     7157 non-null   object \n",
      " 6   Doctor                   7157 non-null   object \n",
      " 7   Followup Date            7035 non-null   object \n",
      " 8   Feedback                 7157 non-null   float64\n",
      " 9   Billing Amount           7157 non-null   int64  \n",
      " 10  Health Insurance Amount  7157 non-null   int64  \n",
      "dtypes: float64(1), int64(3), object(7)\n",
      "memory usage: 615.2+ KB\n"
     ]
    }
   ],
   "source": [
    "df.info()"
   ]
  },
  {
   "cell_type": "code",
   "execution_count": 6,
   "metadata": {},
   "outputs": [
    {
     "data": {
      "text/plain": [
       "Patient_ID                 False\n",
       "Admit_Date                 False\n",
       "Discharge_Date             False\n",
       "Diagnosis                  False\n",
       "Bed_Occupancy              False\n",
       "Test                       False\n",
       "Doctor                     False\n",
       "Followup Date               True\n",
       "Feedback                   False\n",
       "Billing Amount             False\n",
       "Health Insurance Amount    False\n",
       "dtype: bool"
      ]
     },
     "execution_count": 6,
     "metadata": {},
     "output_type": "execute_result"
    }
   ],
   "source": [
    "df.isnull().any()"
   ]
  },
  {
   "cell_type": "code",
   "execution_count": 7,
   "metadata": {},
   "outputs": [
    {
     "data": {
      "text/plain": [
       "np.int64(122)"
      ]
     },
     "execution_count": 7,
     "metadata": {},
     "output_type": "execute_result"
    }
   ],
   "source": [
    "df['Followup Date'].isnull().sum()"
   ]
  },
  {
   "cell_type": "code",
   "execution_count": 8,
   "metadata": {},
   "outputs": [
    {
     "name": "stdout",
     "output_type": "stream",
     "text": [
      "(7035, 11)\n"
     ]
    }
   ],
   "source": [
    "# Drop rows with missing values in 'Followup Date' column directly in the DataFrame\n",
    "df.dropna(subset=['Followup Date'], inplace=True)\n",
    "\n",
    "# Verify the changes\n",
    "print(df.shape)  # Prints the updated number of rows and columns\n"
   ]
  },
  {
   "cell_type": "code",
   "execution_count": 9,
   "metadata": {},
   "outputs": [
    {
     "name": "stdout",
     "output_type": "stream",
     "text": [
      "<class 'pandas.core.frame.DataFrame'>\n",
      "Index: 7035 entries, 0 to 7156\n",
      "Data columns (total 11 columns):\n",
      " #   Column                   Non-Null Count  Dtype  \n",
      "---  ------                   --------------  -----  \n",
      " 0   Patient_ID               7035 non-null   int64  \n",
      " 1   Admit_Date               7035 non-null   object \n",
      " 2   Discharge_Date           7035 non-null   object \n",
      " 3   Diagnosis                7035 non-null   object \n",
      " 4   Bed_Occupancy            7035 non-null   object \n",
      " 5   Test                     7035 non-null   object \n",
      " 6   Doctor                   7035 non-null   object \n",
      " 7   Followup Date            7035 non-null   object \n",
      " 8   Feedback                 7035 non-null   float64\n",
      " 9   Billing Amount           7035 non-null   int64  \n",
      " 10  Health Insurance Amount  7035 non-null   int64  \n",
      "dtypes: float64(1), int64(3), object(7)\n",
      "memory usage: 659.5+ KB\n"
     ]
    }
   ],
   "source": [
    "df.info()"
   ]
  },
  {
   "cell_type": "code",
   "execution_count": 10,
   "metadata": {},
   "outputs": [],
   "source": [
    "df['Admit_Date'] = pd.to_datetime(df['Admit_Date'])"
   ]
  },
  {
   "cell_type": "code",
   "execution_count": 11,
   "metadata": {},
   "outputs": [],
   "source": [
    "df['Discharge_Date'] = pd.to_datetime(df['Discharge_Date'])\n"
   ]
  },
  {
   "cell_type": "code",
   "execution_count": 12,
   "metadata": {},
   "outputs": [],
   "source": [
    "df['Followup Date'] = pd.to_datetime(df['Followup Date'])"
   ]
  },
  {
   "cell_type": "code",
   "execution_count": 13,
   "metadata": {},
   "outputs": [
    {
     "name": "stdout",
     "output_type": "stream",
     "text": [
      "<class 'pandas.core.frame.DataFrame'>\n",
      "Index: 7035 entries, 0 to 7156\n",
      "Data columns (total 11 columns):\n",
      " #   Column                   Non-Null Count  Dtype         \n",
      "---  ------                   --------------  -----         \n",
      " 0   Patient_ID               7035 non-null   int64         \n",
      " 1   Admit_Date               7035 non-null   datetime64[ns]\n",
      " 2   Discharge_Date           7035 non-null   datetime64[ns]\n",
      " 3   Diagnosis                7035 non-null   object        \n",
      " 4   Bed_Occupancy            7035 non-null   object        \n",
      " 5   Test                     7035 non-null   object        \n",
      " 6   Doctor                   7035 non-null   object        \n",
      " 7   Followup Date            7035 non-null   datetime64[ns]\n",
      " 8   Feedback                 7035 non-null   float64       \n",
      " 9   Billing Amount           7035 non-null   int64         \n",
      " 10  Health Insurance Amount  7035 non-null   int64         \n",
      "dtypes: datetime64[ns](3), float64(1), int64(3), object(4)\n",
      "memory usage: 659.5+ KB\n"
     ]
    }
   ],
   "source": [
    "df.info()"
   ]
  },
  {
   "cell_type": "code",
   "execution_count": 14,
   "metadata": {},
   "outputs": [],
   "source": [
    "df['Billing Amount'] = pd.to_numeric(df['Billing Amount'], errors='coerce')\n",
    "df['Health Insurance Amount'] = pd.to_numeric(df['Health Insurance Amount'], errors='coerce')"
   ]
  },
  {
   "cell_type": "code",
   "execution_count": 15,
   "metadata": {},
   "outputs": [],
   "source": [
    "# saving the cleaned data to a new file\n",
    "df.to_csv('C:/sanju/Healthcare_Insights_Dashboard/Healthcare-datasets-updated.csv', index=False)"
   ]
  },
  {
   "cell_type": "code",
   "execution_count": 17,
   "metadata": {},
   "outputs": [
    {
     "name": "stdout",
     "output_type": "stream",
     "text": [
      "<class 'pandas.core.frame.DataFrame'>\n",
      "RangeIndex: 7035 entries, 0 to 7034\n",
      "Data columns (total 11 columns):\n",
      " #   Column                   Non-Null Count  Dtype  \n",
      "---  ------                   --------------  -----  \n",
      " 0   Patient_ID               7035 non-null   int64  \n",
      " 1   Admit_Date               7035 non-null   object \n",
      " 2   Discharge_Date           7035 non-null   object \n",
      " 3   Diagnosis                7035 non-null   object \n",
      " 4   Bed_Occupancy            7035 non-null   object \n",
      " 5   Test                     7035 non-null   object \n",
      " 6   Doctor                   7035 non-null   object \n",
      " 7   Followup Date            7035 non-null   object \n",
      " 8   Feedback                 7035 non-null   float64\n",
      " 9   Billing Amount           7035 non-null   int64  \n",
      " 10  Health Insurance Amount  7035 non-null   int64  \n",
      "dtypes: float64(1), int64(3), object(7)\n",
      "memory usage: 604.7+ KB\n"
     ]
    }
   ],
   "source": [
    "df1 = pd.read_csv('C:/sanju/Healthcare_Insights_Dashboard/Healthcare-datasets-updated.csv')\n",
    "df1.info()"
   ]
  }
 ],
 "metadata": {
  "kernelspec": {
   "display_name": "env",
   "language": "python",
   "name": "python3"
  },
  "language_info": {
   "codemirror_mode": {
    "name": "ipython",
    "version": 3
   },
   "file_extension": ".py",
   "mimetype": "text/x-python",
   "name": "python",
   "nbconvert_exporter": "python",
   "pygments_lexer": "ipython3",
   "version": "3.12.3"
  }
 },
 "nbformat": 4,
 "nbformat_minor": 2
}
